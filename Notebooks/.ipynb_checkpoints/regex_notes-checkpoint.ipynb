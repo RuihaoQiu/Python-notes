{
 "cells": [
  {
   "cell_type": "markdown",
   "metadata": {},
   "source": [
    "## Regex notes\n",
    "\n",
    "This is a personal regex note for daily work, will keep update."
   ]
  },
  {
   "cell_type": "code",
   "execution_count": 1,
   "metadata": {},
   "outputs": [],
   "source": [
    "import re"
   ]
  },
  {
   "cell_type": "markdown",
   "metadata": {},
   "source": [
    "### Modules"
   ]
  },
  {
   "cell_type": "markdown",
   "metadata": {},
   "source": [
    "- re.match(*pattern*, *string*)  \n",
    "If zero or more characters **at the beginning of** *string* match the regular expression *pattern*, return a corresponding match object."
   ]
  },
  {
   "cell_type": "code",
   "execution_count": 2,
   "metadata": {},
   "outputs": [
    {
     "data": {
      "text/plain": [
       "<_sre.SRE_Match object; span=(0, 7), match='project'>"
      ]
     },
     "execution_count": 2,
     "metadata": {},
     "output_type": "execute_result"
    }
   ],
   "source": [
    "## match\n",
    "re.match(r\"project\", \"project manager\")"
   ]
  },
  {
   "cell_type": "code",
   "execution_count": 3,
   "metadata": {},
   "outputs": [],
   "source": [
    "## not match\n",
    "re.match(r\"manager\", \"project manager\")"
   ]
  },
  {
   "cell_type": "markdown",
   "metadata": {},
   "source": [
    "- re.search(*pattern*, *string*)  \n",
    "Go through the whole *string*, Looking for the first location where the regular expression *pattern* produces a match."
   ]
  },
  {
   "cell_type": "code",
   "execution_count": 4,
   "metadata": {},
   "outputs": [
    {
     "data": {
      "text/plain": [
       "<_sre.SRE_Match object; span=(8, 15), match='manager'>"
      ]
     },
     "execution_count": 4,
     "metadata": {},
     "output_type": "execute_result"
    }
   ],
   "source": [
    "## use search\n",
    "re.search(r\"manager\", \"project manager\")"
   ]
  },
  {
   "cell_type": "markdown",
   "metadata": {},
   "source": [
    "- re.complie(*pattern*)  \n",
    "Compile a regular expression *pattern* into a regular expression object, then we can use search, match and other methods. More efficient when the expression will be used several times."
   ]
  },
  {
   "cell_type": "code",
   "execution_count": 5,
   "metadata": {},
   "outputs": [
    {
     "data": {
      "text/plain": [
       "<_sre.SRE_Match object; span=(0, 7), match='project'>"
      ]
     },
     "execution_count": 5,
     "metadata": {},
     "output_type": "execute_result"
    }
   ],
   "source": [
    "## match again\n",
    "regex = re.compile(r\"project\")\n",
    "regex.match(\"project manager\")"
   ]
  },
  {
   "cell_type": "markdown",
   "metadata": {},
   "source": [
    "- re.split(*pattern*, *string*)  \n",
    "Split *string* by the occurrences of *pattern*. If parentheses are used in *pattern*, then the text of the pattern are also returned as part of the resulting list."
   ]
  },
  {
   "cell_type": "code",
   "execution_count": 6,
   "metadata": {},
   "outputs": [
    {
     "data": {
      "text/plain": [
       "['project', 'manager,', 'IT', 'section']"
      ]
     },
     "execution_count": 6,
     "metadata": {},
     "output_type": "execute_result"
    }
   ],
   "source": [
    "## split\n",
    "re.split(r' ', 'project manager, IT section')"
   ]
  },
  {
   "cell_type": "code",
   "execution_count": 7,
   "metadata": {},
   "outputs": [
    {
     "data": {
      "text/plain": [
       "['project', 'manager', 'IT', 'section']"
      ]
     },
     "execution_count": 7,
     "metadata": {},
     "output_type": "execute_result"
    }
   ],
   "source": [
    "## split with more characters\n",
    "re.split(r'[ ,]+', 'project manager, IT section')"
   ]
  },
  {
   "cell_type": "code",
   "execution_count": 8,
   "metadata": {},
   "outputs": [
    {
     "data": {
      "text/plain": [
       "['project', ' ', 'manager', ', ', 'IT', ' ', 'section']"
      ]
     },
     "execution_count": 8,
     "metadata": {},
     "output_type": "execute_result"
    }
   ],
   "source": [
    "## split with parentheses\n",
    "re.split(r'([ ,]+)', 'project manager, IT section')"
   ]
  },
  {
   "cell_type": "markdown",
   "metadata": {},
   "source": [
    "- re.sub(*pattern*, *repl*, *string*)  \n",
    "Replace the matches in *string* with *repl*. "
   ]
  },
  {
   "cell_type": "code",
   "execution_count": 9,
   "metadata": {},
   "outputs": [
    {
     "data": {
      "text/plain": [
       "'project manager IT section'"
      ]
     },
     "execution_count": 9,
     "metadata": {},
     "output_type": "execute_result"
    }
   ],
   "source": [
    "## remove any of the special characters\n",
    "re.sub(r\"[,\\.\\:\\;\\!]+\", \"\", \"project manager, IT section...\")"
   ]
  },
  {
   "cell_type": "markdown",
   "metadata": {},
   "source": [
    "- re.findall(*pattern*, *string*)  \n",
    "Find all non-overlapping matches of *pattern* in *string*, return as a list of strings."
   ]
  },
  {
   "cell_type": "code",
   "execution_count": 10,
   "metadata": {},
   "outputs": [
    {
     "data": {
      "text/plain": [
       "[',', '...']"
      ]
     },
     "execution_count": 10,
     "metadata": {},
     "output_type": "execute_result"
    }
   ],
   "source": [
    "## find all special character in the pattern\n",
    "re.findall(r\"[,\\.\\:\\;\\!]+\", \"project manager, IT section...\")"
   ]
  },
  {
   "cell_type": "markdown",
   "metadata": {},
   "source": [
    "### Special characters\n",
    "\n",
    ".  \n",
    "Matches any character except a newline.\n",
    "\n",
    "^  \n",
    "Matches the start of the string.\n",
    "\n",
    "$  \n",
    "Matches the end of the string.\n",
    "\n",
    "\\*  \n",
    "Match 0 or more repetitions. ab* will match 'a', 'ab', or 'abbbb' (any number of 'b's).\n",
    "\n",
    "\\+  \n",
    "Match 1 or more repetitions. ab+ will match 'ab', or 'abbbb' (any number of 'b's), not 'a'.\n",
    "\n",
    "?  \n",
    "Match 0 or 1 repetitions. ab? will match 'a' or 'ab', useful for plural form, birds? will match both 'bird' and 'birds'.\n",
    "\n",
    "*?, +?, ??  \n",
    "Match as much text as possible.\n",
    "\n",
    "\\  \n",
    "Either escapes special characters (permitting you to match characters like '*', '?', and so forth), or signals a special sequence; special sequences are discussed below.\n",
    "\n",
    "[]  \n",
    "[abc] will match any of 'a', 'b', or 'c'.\n",
    "[a-z] will match any lowercase ASCII letter.\n",
    "Special characters lose their special meaning inside sets. [(+*)] will match any of the literal characters '(', '+', '*', or ')'.\n",
    "\n",
    "|  \n",
    "A|B will match either A or B. An arbitrary number of REs can be separated by the '|' in this way, run from left to right, once A matches, B will not be tested further."
   ]
  },
  {
   "cell_type": "markdown",
   "metadata": {},
   "source": [
    "\\b  \n",
    "Matches the word boundary.\n",
    "\n",
    "\\d  \n",
    "Matches any Unicode decimal digit, equivalent to [0-9]\n",
    "\n",
    "\\s  \n",
    "Matches Unicode whitespace characters (which includes [ \\t\\n\\r\\f\\v])\n",
    "\n",
    "\\w  \n",
    "For Unicode (str) patterns:\n",
    "Matches Unicode word characters, equivalent to [a-zA-Z0-9_]."
   ]
  },
  {
   "cell_type": "markdown",
   "metadata": {},
   "source": [
    "### Examples\n",
    "\n",
    "**Example 1**. Clean string by removing special characters."
   ]
  },
  {
   "cell_type": "code",
   "execution_count": 11,
   "metadata": {},
   "outputs": [],
   "source": [
    "def clean(str_input):\n",
    "    \"\"\"Clean input string by keeping only Unicode ([a-zA-Z0-9_]) patterns and dot(.)\n",
    "    \n",
    "    input\n",
    "    --------\n",
    "    str_input : string\n",
    "        any type of string\n",
    "    \n",
    "    output\n",
    "    --------\n",
    "    str_clean : string\n",
    "        lower case string without any special characters in the pattern.\n",
    "        \n",
    "    notes\n",
    "    --------\n",
    "    - clean string\n",
    "    - remove multiple spaces\n",
    "    - lower case\n",
    "    \"\"\"\n",
    "    sep = re.compile(r\"[^\\w.]\")\n",
    "    try:\n",
    "        str_clean = sep.sub(\" \", str_input)\n",
    "        str_clean = re.sub(\"\\s+\", \" \", str_clean).strip()\n",
    "        return str_clean.lower()\n",
    "    except:\n",
    "        return \"\""
   ]
  },
  {
   "cell_type": "code",
   "execution_count": 12,
   "metadata": {},
   "outputs": [
    {
     "data": {
      "text/plain": [
       "'fwoejurw 5r x few2 .3540'"
      ]
     },
     "execution_count": 12,
     "metadata": {},
     "output_type": "execute_result"
    }
   ],
   "source": [
    "clean(\"fwoejurw#5r[x]few2\\.3540#%###&^^*}$%$#&%*&(!)\")"
   ]
  },
  {
   "cell_type": "code",
   "execution_count": null,
   "metadata": {},
   "outputs": [],
   "source": []
  }
 ],
 "metadata": {
  "kernelspec": {
   "display_name": "Python [default]",
   "language": "python",
   "name": "python3"
  },
  "language_info": {
   "codemirror_mode": {
    "name": "ipython",
    "version": 3
   },
   "file_extension": ".py",
   "mimetype": "text/x-python",
   "name": "python",
   "nbconvert_exporter": "python",
   "pygments_lexer": "ipython3",
   "version": "3.6.6"
  }
 },
 "nbformat": 4,
 "nbformat_minor": 2
}
