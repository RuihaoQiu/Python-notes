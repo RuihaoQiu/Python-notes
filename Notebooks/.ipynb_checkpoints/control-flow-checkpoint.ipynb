{
 "cells": [
  {
   "cell_type": "markdown",
   "metadata": {},
   "source": [
    "## for loop"
   ]
  },
  {
   "cell_type": "code",
   "execution_count": 5,
   "metadata": {},
   "outputs": [
    {
     "name": "stdout",
     "output_type": "stream",
     "text": [
      "0 a\n",
      "1 b\n",
      "2 c\n",
      "3 d\n",
      "All done!\n"
     ]
    }
   ],
   "source": [
    "a_list = [\"a\", \"b\", \"c\", \"d\"]\n",
    "\n",
    "## print both index and item\n",
    "for n, item in enumerate(a_list):\n",
    "    print(n, item)\n",
    "## after loop \n",
    "else:\n",
    "    print('All done!')"
   ]
  },
  {
   "cell_type": "markdown",
   "metadata": {},
   "source": [
    "## if"
   ]
  },
  {
   "cell_type": "code",
   "execution_count": 6,
   "metadata": {},
   "outputs": [
    {
     "name": "stdout",
     "output_type": "stream",
     "text": [
      "0 a\n",
      "b\n",
      "2 c\n",
      "d\n",
      "done!\n"
     ]
    }
   ],
   "source": [
    "a_list = [\"a\", \"b\", \"c\", \"d\"]\n",
    "\n",
    "## print both index and item\n",
    "for n, item in enumerate(a_list):\n",
    "    if n % 2 == 0:\n",
    "        print(n, item)\n",
    "    else:\n",
    "        print(item)\n",
    "## after loop \n",
    "else:\n",
    "    print('done!')"
   ]
  },
  {
   "cell_type": "markdown",
   "metadata": {},
   "source": [
    "### While"
   ]
  },
  {
   "cell_type": "code",
   "execution_count": 12,
   "metadata": {},
   "outputs": [
    {
     "name": "stdout",
     "output_type": "stream",
     "text": [
      "0\n",
      "9\n",
      "9 is over 5\n"
     ]
    }
   ],
   "source": [
    "import random\n",
    "\n",
    "running = True\n",
    "while running:\n",
    "    x = random.randint(0,10)\n",
    "    print(x)\n",
    "    if x > 5:\n",
    "        print(x, 'is over 5')\n",
    "        running = False"
   ]
  },
  {
   "cell_type": "markdown",
   "metadata": {},
   "source": [
    "### break, continues"
   ]
  },
  {
   "cell_type": "code",
   "execution_count": 28,
   "metadata": {},
   "outputs": [
    {
     "name": "stdout",
     "output_type": "stream",
     "text": [
      "0 < 3\n",
      "1 < 3\n",
      "2 < 3\n"
     ]
    }
   ],
   "source": [
    "for num in range(5):\n",
    "    if num < 3:\n",
    "        print(num, \"< 3\")\n",
    "    else:\n",
    "        break"
   ]
  },
  {
   "cell_type": "code",
   "execution_count": 21,
   "metadata": {},
   "outputs": [
    {
     "name": "stdout",
     "output_type": "stream",
     "text": [
      "0 even number\n",
      "1 odd number\n",
      "2 even number\n",
      "3 odd number\n",
      "4 even number\n"
     ]
    }
   ],
   "source": [
    "for num in range(5):\n",
    "    if num % 2 == 0:\n",
    "        print(num, \"even number\")\n",
    "        continue\n",
    "    print(num, \"odd number\")"
   ]
  },
  {
   "cell_type": "code",
   "execution_count": null,
   "metadata": {},
   "outputs": [],
   "source": []
  }
 ],
 "metadata": {
  "anaconda-cloud": {},
  "kernelspec": {
   "display_name": "Python [conda env:py3]",
   "language": "python",
   "name": "conda-env-py3-py"
  },
  "language_info": {
   "codemirror_mode": {
    "name": "ipython",
    "version": 3
   },
   "file_extension": ".py",
   "mimetype": "text/x-python",
   "name": "python",
   "nbconvert_exporter": "python",
   "pygments_lexer": "ipython3",
   "version": "3.6.6"
  }
 },
 "nbformat": 4,
 "nbformat_minor": 2
}
