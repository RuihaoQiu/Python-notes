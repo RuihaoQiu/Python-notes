{
 "cells": [
  {
   "cell_type": "markdown",
   "metadata": {},
   "source": [
    "## Python module and package"
   ]
  },
  {
   "cell_type": "code",
   "execution_count": 2,
   "metadata": {},
   "outputs": [],
   "source": [
    "import example"
   ]
  },
  {
   "cell_type": "code",
   "execution_count": 4,
   "metadata": {},
   "outputs": [
    {
     "name": "stdout",
     "output_type": "stream",
     "text": [
      "Hello.\n",
      "[100, 200, 300]\n"
     ]
    }
   ],
   "source": [
    "print(example.s)\n",
    "print(example.a)"
   ]
  },
  {
   "cell_type": "code",
   "execution_count": 9,
   "metadata": {},
   "outputs": [
    {
     "name": "stdout",
     "output_type": "stream",
     "text": [
      "Hello.\n"
     ]
    }
   ],
   "source": [
    "import example as my_module\n",
    "print(my_module.s)"
   ]
  },
  {
   "cell_type": "code",
   "execution_count": 5,
   "metadata": {},
   "outputs": [
    {
     "name": "stdout",
     "output_type": "stream",
     "text": [
      "Hello.\n"
     ]
    }
   ],
   "source": [
    "from example import s\n",
    "print(s)"
   ]
  },
  {
   "cell_type": "code",
   "execution_count": 6,
   "metadata": {},
   "outputs": [
    {
     "name": "stdout",
     "output_type": "stream",
     "text": [
      "arg = abc\n"
     ]
    }
   ],
   "source": [
    "from example import foo\n",
    "foo('abc')"
   ]
  },
  {
   "cell_type": "code",
   "execution_count": 7,
   "metadata": {},
   "outputs": [
    {
     "data": {
      "text/plain": [
       "<example.Foo at 0x10ecace80>"
      ]
     },
     "execution_count": 7,
     "metadata": {},
     "output_type": "execute_result"
    }
   ],
   "source": [
    "from example import Foo\n",
    "x = Foo()\n",
    "x"
   ]
  },
  {
   "cell_type": "markdown",
   "metadata": {},
   "source": [
    "run as standalone script"
   ]
  },
  {
   "cell_type": "code",
   "execution_count": 26,
   "metadata": {},
   "outputs": [
    {
     "name": "stdout",
     "output_type": "stream",
     "text": [
      "Hello.\n",
      "[100, 200, 300]\n",
      "arg = quux\n",
      "<__main__.Foo object at 0x10ed7ed30>\n"
     ]
    }
   ],
   "source": [
    "s = \"Hello.\"\n",
    "a = [100, 200, 300]\n",
    " \n",
    "def foo(arg):\n",
    "    print(f'arg = {arg}')\n",
    " \n",
    "class Foo:\n",
    "    pass\n",
    " \n",
    "if __name__ == '__main__':\n",
    "    print(s)\n",
    "    print(a)\n",
    "    foo('quux')\n",
    "    x = Foo()\n",
    "    print(x)"
   ]
  },
  {
   "cell_type": "code",
   "execution_count": 21,
   "metadata": {},
   "outputs": [
    {
     "data": {
      "text/plain": [
       "['',\n",
       " '/Users/qiuruihao/miniconda2/envs/py3/lib/python36.zip',\n",
       " '/Users/qiuruihao/miniconda2/envs/py3/lib/python3.6',\n",
       " '/Users/qiuruihao/miniconda2/envs/py3/lib/python3.6/lib-dynload',\n",
       " '/Users/qiuruihao/miniconda2/envs/py3/lib/python3.6/site-packages',\n",
       " '/Users/qiuruihao/miniconda2/envs/py3/lib/python3.6/site-packages/aeosa',\n",
       " '/Users/qiuruihao/miniconda2/envs/py3/lib/python3.6/site-packages/IPython/extensions',\n",
       " '/Users/qiuruihao/.ipython',\n",
       " 'C:\\\\Users\\\\john']"
      ]
     },
     "execution_count": 21,
     "metadata": {},
     "output_type": "execute_result"
    }
   ],
   "source": [
    "import sys\n",
    "sys.path"
   ]
  },
  {
   "cell_type": "code",
   "execution_count": 22,
   "metadata": {},
   "outputs": [],
   "source": [
    "sys.path.append(r'/Users/john')"
   ]
  },
  {
   "cell_type": "code",
   "execution_count": 23,
   "metadata": {},
   "outputs": [
    {
     "data": {
      "text/plain": [
       "['',\n",
       " '/Users/qiuruihao/miniconda2/envs/py3/lib/python36.zip',\n",
       " '/Users/qiuruihao/miniconda2/envs/py3/lib/python3.6',\n",
       " '/Users/qiuruihao/miniconda2/envs/py3/lib/python3.6/lib-dynload',\n",
       " '/Users/qiuruihao/miniconda2/envs/py3/lib/python3.6/site-packages',\n",
       " '/Users/qiuruihao/miniconda2/envs/py3/lib/python3.6/site-packages/aeosa',\n",
       " '/Users/qiuruihao/miniconda2/envs/py3/lib/python3.6/site-packages/IPython/extensions',\n",
       " '/Users/qiuruihao/.ipython',\n",
       " 'C:\\\\Users\\\\john',\n",
       " '/Users/john']"
      ]
     },
     "execution_count": 23,
     "metadata": {},
     "output_type": "execute_result"
    }
   ],
   "source": [
    "sys.path"
   ]
  },
  {
   "cell_type": "code",
   "execution_count": 12,
   "metadata": {},
   "outputs": [
    {
     "data": {
      "text/plain": [
       "'/Users/qiuruihao/Google Drive/Github/Python-notes/Notebooks/example.py'"
      ]
     },
     "execution_count": 12,
     "metadata": {},
     "output_type": "execute_result"
    }
   ],
   "source": [
    "import example\n",
    "example.__file__"
   ]
  },
  {
   "cell_type": "code",
   "execution_count": null,
   "metadata": {},
   "outputs": [],
   "source": []
  },
  {
   "cell_type": "code",
   "execution_count": null,
   "metadata": {},
   "outputs": [],
   "source": []
  }
 ],
 "metadata": {
  "anaconda-cloud": {},
  "kernelspec": {
   "display_name": "Python [conda env:py3]",
   "language": "python",
   "name": "conda-env-py3-py"
  },
  "language_info": {
   "codemirror_mode": {
    "name": "ipython",
    "version": 3
   },
   "file_extension": ".py",
   "mimetype": "text/x-python",
   "name": "python",
   "nbconvert_exporter": "python",
   "pygments_lexer": "ipython3",
   "version": "3.6.6"
  }
 },
 "nbformat": 4,
 "nbformat_minor": 2
}
